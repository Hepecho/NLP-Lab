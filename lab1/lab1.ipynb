{
 "cells": [
  {
   "cell_type": "markdown",
   "source": [
    "## NLP Lab 1\n",
    "### 准备工作\n",
    "下载第三方 `jieba` 库\n",
    "- 先下载 https://pypi.python.org/pypi/jieba/\n",
    "- 解压后运行 python setup.py install"
   ],
   "metadata": {
    "collapsed": false
   }
  },
  {
   "cell_type": "code",
   "execution_count": 1,
   "outputs": [],
   "source": [
    "import gensim.models\n",
    "import numpy as np\n",
    "import jieba\n",
    "from gensim.models import word2vec\n",
    "import matplotlib\n",
    "import seaborn as sns\n",
    "from sklearn.decomposition import PCA\n",
    "import matplotlib.pyplot as plt"
   ],
   "metadata": {
    "collapsed": false
   }
  },
  {
   "cell_type": "markdown",
   "source": [
    "### Step1 分词\n",
    "使用jieba分词工具进行分词，使用方法：jieba.cut(text)；"
   ],
   "metadata": {
    "collapsed": false
   }
  },
  {
   "cell_type": "code",
   "execution_count": 2,
   "outputs": [
    {
     "name": "stderr",
     "output_type": "stream",
     "text": [
      "Building prefix dict from the default dictionary ...\n"
     ]
    },
    {
     "name": "stdout",
     "output_type": "stream",
     "text": [
      "\n",
      "1.字符串分词测试:\n",
      "\n"
     ]
    },
    {
     "name": "stderr",
     "output_type": "stream",
     "text": [
      "Dumping model to file cache C:\\Users\\ECHOES\\AppData\\Local\\Temp\\jieba.cache\n",
      "Loading model cost 0.650 seconds.\n",
      "Prefix dict has been built successfully.\n"
     ]
    },
    {
     "name": "stdout",
     "output_type": "stream",
     "text": [
      "他/来到/上海交通大学\n"
     ]
    }
   ],
   "source": [
    "# jieba分词\n",
    "print(\"\\n1.字符串分词测试:\\n\")\n",
    "seg_list = jieba.cut(\"他来到上海交通大学\", cut_all=False)\n",
    "print(\"/\".join(seg_list))"
   ],
   "metadata": {
    "collapsed": false
   }
  },
  {
   "cell_type": "markdown",
   "source": [
    "### Step2 训练词向量模型并保存\n",
    "原始数据集：.\\实验一数据集.txt\n",
    "分词后的数据集：.\\dataset_segment.txt\n",
    "转换为100维词向量的数据集：.\\w2v.txt\n",
    "模型：.\\word2vec.model"
   ],
   "metadata": {
    "collapsed": false
   }
  },
  {
   "cell_type": "code",
   "execution_count": 3,
   "outputs": [
    {
     "name": "stdout",
     "output_type": "stream",
     "text": [
      "\n",
      "2.词向量模型训练中...\n",
      "\n",
      "词向量模型训练完成\n"
     ]
    }
   ],
   "source": [
    "# word2vec训练词向量\n",
    "print(\"\\n2.词向量模型训练中...\")\n",
    "with open(r\".\\实验一数据集.txt\", encoding='utf-8') as f1:\n",
    "    document = f1.read()\n",
    "    document_cut = jieba.cut(document)\n",
    "    result = ' '.join(document_cut)\n",
    "    with open(r\".\\dataset_segment.txt\", \"w\", encoding='utf-8') as f2:\n",
    "        f2.write(result)\n",
    "\n",
    "corpus = r\".\\dataset_segment.txt\"\n",
    "sentences = word2vec.LineSentence(corpus)\n",
    "model = word2vec.Word2Vec(sentences, vector_size=100, window=5, min_count=1, workers=4)\n",
    "model.wv.save_word2vec_format(r\".\\w2v.txt\")   # 保存词向量字典\n",
    "model.save(r\".\\word2vec.model\")\n",
    "print(\"\\n词向量模型训练完成\")"
   ],
   "metadata": {
    "collapsed": false
   }
  },
  {
   "cell_type": "markdown",
   "source": [
    "### Step3 相似性比较"
   ],
   "metadata": {
    "collapsed": false
   }
  },
  {
   "cell_type": "code",
   "execution_count": 4,
   "outputs": [],
   "source": [
    "# 加载保存好的模型\n",
    "path = r'.\\word2vec.model'\n",
    "wv_model = gensim.models.Word2Vec.load(path)"
   ],
   "metadata": {
    "collapsed": false
   }
  },
  {
   "cell_type": "code",
   "execution_count": 5,
   "outputs": [
    {
     "name": "stdout",
     "output_type": "stream",
     "text": [
      "\n",
      "‘中华’和'中国'相似性比较：\n",
      "\n",
      "0.4699579\n",
      "\n",
      "‘牛奶’和'航天'相似性比较：\n",
      "\n",
      "0.20077075\n"
     ]
    }
   ],
   "source": [
    "# 相似性比较\n",
    "print(\"\\n‘中华’和'中国'相似性比较：\\n\")\n",
    "r = wv_model.wv.similarity('中国', '中华')\n",
    "print(r)\n",
    "print(\"\\n‘牛奶’和'航天'相似性比较：\\n\")\n",
    "r = wv_model.wv.similarity('牛奶', '航天')\n",
    "print(r)"
   ],
   "metadata": {
    "collapsed": false
   }
  },
  {
   "cell_type": "markdown",
   "source": [
    "### Step4 找出指定词最相似的5个词"
   ],
   "metadata": {
    "collapsed": false
   }
  },
  {
   "cell_type": "code",
   "execution_count": 26,
   "outputs": [
    {
     "name": "stdout",
     "output_type": "stream",
     "text": [
      "\n",
      "找‘武汉’的最相似的5个词：\n",
      "\n",
      "[('沈阳', 0.9436022639274597), ('成都', 0.9336646795272827), ('南京', 0.9197261333465576), ('太原', 0.9089016914367676), ('郑州', 0.906379759311676)]\n",
      "\n",
      "找‘快乐’的最相似的5个词：\n",
      "\n",
      "[('乐趣', 0.9004325866699219), ('爱情', 0.8724442720413208), ('亲情', 0.8642067313194275), ('温馨', 0.8597200512886047), ('浪漫', 0.8434775471687317)]\n",
      "\n",
      "找‘占卜’的最相似的5个词：\n",
      "\n",
      "[('白居寺', 0.929069995880127), ('王秀芬', 0.9212385416030884), ('欧阳山尊', 0.9187438488006592), ('雨里', 0.9163070321083069), ('桑树', 0.9162893295288086)]\n"
     ]
    }
   ],
   "source": [
    "# 找出指定词最相似的5个词\n",
    "print(\"\\n找‘武汉’的最相似的5个词：\\n\")\n",
    "r = wv_model.wv.most_similar(positive=['武汉'], topn=5)\n",
    "print(r)\n",
    "print(\"\\n找‘快乐’的最相似的5个词：\\n\")\n",
    "r = wv_model.wv.most_similar(positive=['快乐'], topn=5)\n",
    "print(r)\n",
    "print(\"\\n找‘占卜’的最相似的5个词：\\n\")\n",
    "r = wv_model.wv.most_similar(positive=['占卜'], topn=5)\n",
    "print(r)"
   ],
   "metadata": {
    "collapsed": false
   }
  },
  {
   "cell_type": "markdown",
   "source": [
    "### Step5 找出与指定词类比最相似的5个词"
   ],
   "metadata": {
    "collapsed": false
   }
  },
  {
   "cell_type": "code",
   "execution_count": 56,
   "outputs": [
    {
     "name": "stdout",
     "output_type": "stream",
     "text": [
      "\n",
      "找'湖北,成都‘类比相似，而与'武汉'不相似的5个词：\n",
      "\n",
      "[('河南', 0.9058181047439575), ('山东', 0.9052097201347351), ('江西', 0.9019328355789185), ('湖南', 0.9011719226837158), ('内蒙古', 0.898640513420105)]\n",
      "\n",
      "找'快乐,高兴‘类比相似，而与'悲伤'不相似的5个词：\n",
      "\n",
      "[('自豪', 0.7093263864517212), ('自信', 0.6741539239883423), ('深切', 0.6715807318687439), ('激动', 0.6598021388053894), ('欣慰', 0.6581773161888123)]\n"
     ]
    }
   ],
   "source": [
    "# 找出与指定词类比最相似的5个词\n",
    "print(\"\\n找'湖北,成都‘类比相似，而与'武汉'不相似的5个词：\\n\")\n",
    "r = wv_model.wv.most_similar(positive=['湖北', '成都'], negative=['武汉'], topn=5)\n",
    "print(r)\n",
    "print(\"\\n找'快乐,高兴‘类比相似，而与'悲伤'不相似的5个词：\\n\")\n",
    "r = wv_model.wv.most_similar(positive=['快乐', '高兴'], negative=['悲伤'], topn=5)\n",
    "print(r)"
   ],
   "metadata": {
    "collapsed": false
   }
  },
  {
   "cell_type": "markdown",
   "source": [
    "### Step6 PCA方法降维词向量，并可视化\n",
    ">1.获取给定词的词向量\n",
    ">2.pca降维到二维\n",
    ">3.sns可视化\n",
    ">4.使用plt.text()添加文本标签"
   ],
   "metadata": {
    "collapsed": false
   }
  },
  {
   "cell_type": "code",
   "execution_count": 58,
   "outputs": [
    {
     "data": {
      "text/plain": "<Figure size 432x288 with 1 Axes>",
      "image/png": "[encoded data removed]"
     },
     "metadata": {},
     "output_type": "display_data"
    }
   ],
   "source": [
    "# PCA方法降维词向量，并可视化\n",
    "L = ['江苏', '南京', '成都', '四川', '湖北', '武汉', '河南', '郑州', '甘肃', '兰州',\n",
    "    '湖南', '长沙', '陕西', '西安', '吉林', '长春', '广东', '广州', '浙江', '杭州']\n",
    "L_embeddings = []\n",
    "for word in L:\n",
    "    L_embeddings.append(wv_model.wv[word])\n",
    "\n",
    "pca = PCA(n_components=2)\n",
    "results = pca.fit_transform(L_embeddings)\n",
    "\n",
    "sns.set()\n",
    "sns.scatterplot(x=results[:, 0], y=results[:, 1], data=results)\n",
    "# 添加文本标签\n",
    "for i, table in enumerate(L):\n",
    "    plt.text(results[i, 0] + 0.2, results[i, 1], table, family='SimHei')\n",
    "plt.show()"
   ],
   "metadata": {
    "collapsed": false
   }
  },
  {
   "cell_type": "code",
   "execution_count": null,
   "outputs": [],
   "source": [],
   "metadata": {
    "collapsed": false
   }
  }
 ],
 "metadata": {
  "kernelspec": {
   "display_name": "Python 3",
   "language": "python",
   "name": "python3"
  },
  "language_info": {
   "codemirror_mode": {
    "name": "ipython",
    "version": 2
   },
   "file_extension": ".py",
   "mimetype": "text/x-python",
   "name": "python",
   "nbconvert_exporter": "python",
   "pygments_lexer": "ipython2",
   "version": "2.7.6"
  }
 },
 "nbformat": 4,
 "nbformat_minor": 0
}
